{
 "cells": [
  {
   "cell_type": "code",
   "execution_count": 1,
   "id": "1181589f-f01b-45d3-b044-5905b4bd0685",
   "metadata": {
    "tags": []
   },
   "outputs": [
    {
     "name": "stdout",
     "output_type": "stream",
     "text": [
      "Python 3.10.9 | packaged by conda-forge | (main, Feb  2 2023, 20:20:04) [GCC 11.3.0] on linux\n",
      "Type \"help\", \"copyright\", \"credits\" or \"license\" for more information.\n",
      "Setting default log level to \"WARN\".\n",
      "To adjust logging level use sc.setLogLevel(newLevel). For SparkR, use setLogLevel(newLevel).\n",
      "23/03/04 17:18:09 WARN NativeCodeLoader: Unable to load native-hadoop library for your platform... using builtin-java classes where applicable\n",
      "Welcome to\n",
      "      ____              __\n",
      "     / __/__  ___ _____/ /__\n",
      "    _\\ \\/ _ \\/ _ `/ __/  '_/\n",
      "   /__ / .__/\\_,_/_/ /_/\\_\\   version 3.3.2\n",
      "      /_/\n",
      "\n",
      "Using Python version 3.10.9 (main, Feb  2 2023 20:20:04)\n",
      "Spark context Web UI available at http://9968e6ee1ae2:4040\n",
      "Spark context available as 'sc' (master = local[*], app id = local-1677950291152).\n",
      "SparkSession available as 'spark'.\n",
      ">>> \n",
      "Traceback (most recent call last):\n",
      "  File \"<stdin>\", line 1, in <module>\n",
      "  File \"/usr/local/spark/python/pyspark/context.py\", line 363, in signal_handler\n",
      "    raise KeyboardInterrupt()\n",
      "KeyboardInterrupt\n",
      ">>> "
     ]
    }
   ],
   "source": [
    "!pyspark"
   ]
  },
  {
   "cell_type": "markdown",
   "id": "64c6fae6-63c3-42a4-bc7f-abfb14dc91ca",
   "metadata": {
    "jp-MarkdownHeadingCollapsed": true,
    "tags": []
   },
   "source": [
    "# Spark Version / Versión de Spark"
   ]
  },
  {
   "cell_type": "code",
   "execution_count": 2,
   "id": "5a2fd1eb-16ce-483f-8029-1b53f9bf77a0",
   "metadata": {
    "tags": []
   },
   "outputs": [],
   "source": [
    "import pyspark\n",
    "from pyspark.sql import SparkSession"
   ]
  },
  {
   "cell_type": "code",
   "execution_count": 3,
   "id": "1e57180f-ce8d-4dae-bffd-4702151c0c9d",
   "metadata": {
    "tags": []
   },
   "outputs": [],
   "source": [
    "spark = SparkSession.builder.master(\"local[1]\").appName('MybabySpark').getOrCreate()"
   ]
  },
  {
   "cell_type": "code",
   "execution_count": 6,
   "id": "dfe2f8fb-a848-4725-8f15-118cf0fcebaa",
   "metadata": {
    "tags": []
   },
   "outputs": [
    {
     "name": "stdout",
     "output_type": "stream",
     "text": [
      "Pyspark version :3.3.2\n",
      "Pyspark Version with context :3.3.2\n"
     ]
    }
   ],
   "source": [
    "print('Pyspark version :'+spark.version)\n",
    "print('Pyspark Version with context :'+spark.sparkContext.version)"
   ]
  },
  {
   "cell_type": "code",
   "execution_count": 7,
   "id": "6379c16a-6b99-4460-b97d-902173a71963",
   "metadata": {
    "tags": []
   },
   "outputs": [],
   "source": [
    "spark2 = SparkSession.builder.master(\"local[1]\").appName('MybabySpark2').getOrCreate()"
   ]
  },
  {
   "cell_type": "code",
   "execution_count": 8,
   "id": "07ee12f9-1abd-499d-9a39-91850674cba3",
   "metadata": {
    "tags": []
   },
   "outputs": [],
   "source": [
    "spark.stop()"
   ]
  },
  {
   "cell_type": "code",
   "execution_count": 9,
   "id": "fb3a2d1c-04b5-4186-a282-32e6c57c9566",
   "metadata": {
    "tags": []
   },
   "outputs": [],
   "source": [
    "spark2.stop()"
   ]
  },
  {
   "cell_type": "markdown",
   "id": "7fff8a29-1018-4ada-9f9d-845507b7b7b9",
   "metadata": {
    "jp-MarkdownHeadingCollapsed": true,
    "tags": []
   },
   "source": [
    "# Spark Context and Spark Sessiones"
   ]
  },
  {
   "cell_type": "code",
   "execution_count": 10,
   "id": "fbe75785-6028-4532-9565-c6a85952e4ad",
   "metadata": {
    "tags": []
   },
   "outputs": [],
   "source": [
    "from pyspark import SparkContext\n",
    "from pyspark.sql import SparkSession"
   ]
  },
  {
   "cell_type": "code",
   "execution_count": 11,
   "id": "60ceb4fa-3c92-4dde-85ec-f58540a9c59e",
   "metadata": {
    "tags": []
   },
   "outputs": [],
   "source": [
    "spark = SparkSession.builder.master(\"local\").appName(\"FirstSession\").getOrCreate()"
   ]
  },
  {
   "cell_type": "code",
   "execution_count": 13,
   "id": "f830232a-2038-4d6e-b1da-58ca67bcd301",
   "metadata": {
    "tags": []
   },
   "outputs": [],
   "source": [
    "spark.stop()"
   ]
  },
  {
   "cell_type": "code",
   "execution_count": 14,
   "id": "1cd55c1f-184e-4a2e-b29a-707f2f099a99",
   "metadata": {
    "tags": []
   },
   "outputs": [],
   "source": [
    "sc = SparkContext(master='local',appName=\"MyFirstContext\")"
   ]
  },
  {
   "cell_type": "code",
   "execution_count": 15,
   "id": "824c0fdd-5dce-416f-92fc-f6b81d42f1a0",
   "metadata": {
    "tags": []
   },
   "outputs": [
    {
     "data": {
      "text/html": [
       "\n",
       "        <div>\n",
       "            <p><b>SparkContext</b></p>\n",
       "\n",
       "            <p><a href=\"http://9968e6ee1ae2:4040\">Spark UI</a></p>\n",
       "\n",
       "            <dl>\n",
       "              <dt>Version</dt>\n",
       "                <dd><code>v3.3.2</code></dd>\n",
       "              <dt>Master</dt>\n",
       "                <dd><code>local</code></dd>\n",
       "              <dt>AppName</dt>\n",
       "                <dd><code>MyFirstContext</code></dd>\n",
       "            </dl>\n",
       "        </div>\n",
       "        "
      ],
      "text/plain": [
       "<SparkContext master=local appName=MyFirstContext>"
      ]
     },
     "execution_count": 15,
     "metadata": {},
     "output_type": "execute_result"
    }
   ],
   "source": [
    "sc"
   ]
  },
  {
   "cell_type": "code",
   "execution_count": 16,
   "id": "fd246ae5-95ec-40be-99cd-d554449723cf",
   "metadata": {
    "tags": []
   },
   "outputs": [],
   "source": [
    "spark2 = SparkSession(sc)"
   ]
  },
  {
   "cell_type": "code",
   "execution_count": 18,
   "id": "34c0fd07-e67e-44fa-967b-79cfba71372e",
   "metadata": {
    "tags": []
   },
   "outputs": [],
   "source": [
    "spark2.stop()"
   ]
  },
  {
   "cell_type": "markdown",
   "id": "15b17915-c03a-40ec-b01c-9b7721550a28",
   "metadata": {},
   "source": [
    "# Working with RDDs"
   ]
  },
  {
   "cell_type": "raw",
   "id": "76a01c15-f32f-495f-b00f-9c23e156ac7d",
   "metadata": {},
   "source": [
    "File Path"
   ]
  },
  {
   "cell_type": "code",
   "execution_count": 2,
   "id": "b2fd14c2-07cd-4491-8c06-aa7f13410fa2",
   "metadata": {
    "tags": []
   },
   "outputs": [],
   "source": [
    "PATH = \"./data/\""
   ]
  },
  {
   "cell_type": "code",
   "execution_count": 3,
   "id": "a04d2d4b-2689-458d-9c07-3053ba1667f1",
   "metadata": {
    "tags": []
   },
   "outputs": [
    {
     "data": {
      "text/plain": [
       "'./data/'"
      ]
     },
     "execution_count": 3,
     "metadata": {},
     "output_type": "execute_result"
    }
   ],
   "source": [
    "PATH"
   ]
  },
  {
   "cell_type": "code",
   "execution_count": 4,
   "id": "8669426d-4895-4145-88e9-281a4a8cd8cf",
   "metadata": {
    "tags": []
   },
   "outputs": [],
   "source": [
    "from pyspark import SparkContext\n",
    "sc = SparkContext(master='local',appName='Transformations')"
   ]
  },
  {
   "cell_type": "code",
   "execution_count": 5,
   "id": "420260fd-7302-4098-b6f0-5f17e4abd1e5",
   "metadata": {
    "tags": []
   },
   "outputs": [],
   "source": [
    "rdd_empleados = sc.textFile(PATH+'employees.csv') # ./data/employees.csv\n",
    "rdd_departamentos = sc.textFile(PATH+'departments.csv')\n",
    "rdd_jobs = sc.textFile(PATH+'jobs.csv')"
   ]
  },
  {
   "cell_type": "code",
   "execution_count": 6,
   "id": "88727d9c-ecd8-46cd-8d48-35e3273a4e61",
   "metadata": {
    "tags": []
   },
   "outputs": [
    {
     "data": {
      "text/plain": [
       "['1,Product Management',\n",
       " '2,Sales',\n",
       " '3,Research and Development',\n",
       " '4,Business Development',\n",
       " '5,Engineering',\n",
       " '6,Human Resources',\n",
       " '7,Services',\n",
       " '8,Support',\n",
       " '9,Marketing',\n",
       " '10,Training']"
      ]
     },
     "execution_count": 6,
     "metadata": {},
     "output_type": "execute_result"
    }
   ],
   "source": [
    "rdd_departamentos.take(10)"
   ]
  },
  {
   "cell_type": "code",
   "execution_count": 7,
   "id": "72006c3d-4176-4274-8575-def66c672dd1",
   "metadata": {
    "tags": []
   },
   "outputs": [
    {
     "data": {
      "text/plain": [
       "['1,Marketing Assistant', '2,VP Sales', '3,Biostatistician IV']"
      ]
     },
     "execution_count": 7,
     "metadata": {},
     "output_type": "execute_result"
    }
   ],
   "source": [
    "rdd_jobs.take(3)"
   ]
  },
  {
   "cell_type": "code",
   "execution_count": 8,
   "id": "8a3666cc-11eb-4491-bdea-4795f8e17799",
   "metadata": {
    "tags": []
   },
   "outputs": [
    {
     "data": {
      "text/plain": [
       "['1,Harold Vogt,2021-11-07T02:48:42Z,2,96',\n",
       " '2,Ty Hofer,2021-05-30T05:43:46Z,8,',\n",
       " '3,Lyman Hadye,2021-09-01T23:27:38Z,5,52',\n",
       " '4,Lotti Crowthe,2021-10-01T13:04:21Z,12,71']"
      ]
     },
     "execution_count": 8,
     "metadata": {},
     "output_type": "execute_result"
    }
   ],
   "source": [
    "rdd_empleados.take(4)"
   ]
  },
  {
   "cell_type": "raw",
   "id": "a0637f98-a9b5-43a3-aa1c-eebdde802add",
   "metadata": {
    "tags": []
   },
   "source": [
    "Data examples"
   ]
  },
  {
   "cell_type": "code",
   "execution_count": 9,
   "id": "6113a8dd-0324-42b4-8b86-59c8c0f22d34",
   "metadata": {
    "tags": []
   },
   "outputs": [],
   "source": [
    "arreglo = ['1,Marketing Assistant', '2,VP Sales', '3,Biostatistician IV']"
   ]
  },
  {
   "cell_type": "code",
   "execution_count": 10,
   "id": "a76cbdc3-eb3c-4bba-80af-e8cdd31d6ddd",
   "metadata": {
    "tags": []
   },
   "outputs": [
    {
     "data": {
      "text/plain": [
       "'2,VP Sales'"
      ]
     },
     "execution_count": 10,
     "metadata": {},
     "output_type": "execute_result"
    }
   ],
   "source": [
    "arreglo[1]"
   ]
  },
  {
   "cell_type": "code",
   "execution_count": 11,
   "id": "1c53e583-62a7-4c4b-a426-40d1c35d5dff",
   "metadata": {
    "tags": []
   },
   "outputs": [],
   "source": [
    "rdd_departamentos = rdd_departamentos.map(lambda l: l.split(','))"
   ]
  },
  {
   "cell_type": "code",
   "execution_count": 12,
   "id": "ba250b75-f08d-41d4-bbba-1ec27b745bbb",
   "metadata": {
    "tags": []
   },
   "outputs": [
    {
     "data": {
      "text/plain": [
       "[['1', 'Product Management'],\n",
       " ['2', 'Sales'],\n",
       " ['3', 'Research and Development'],\n",
       " ['4', 'Business Development'],\n",
       " ['5', 'Engineering']]"
      ]
     },
     "execution_count": 12,
     "metadata": {},
     "output_type": "execute_result"
    }
   ],
   "source": [
    "rdd_departamentos.take(5)"
   ]
  },
  {
   "cell_type": "code",
   "execution_count": 13,
   "id": "08987a20-c453-44fb-aeee-2270e1531086",
   "metadata": {
    "tags": []
   },
   "outputs": [],
   "source": [
    "arreglo2 = [['1', 'Product Management'],\n",
    " ['2', 'Sales'],\n",
    " ['3', 'Research and Development'],\n",
    " ['4', 'Business Development'],\n",
    " ['5', 'Engineering']]"
   ]
  },
  {
   "cell_type": "code",
   "execution_count": 14,
   "id": "0802e4aa-86a3-472b-b4c9-fcfcb1306ac5",
   "metadata": {
    "tags": []
   },
   "outputs": [
    {
     "data": {
      "text/plain": [
       "'Product Management'"
      ]
     },
     "execution_count": 14,
     "metadata": {},
     "output_type": "execute_result"
    }
   ],
   "source": [
    "arreglo2[0][1]"
   ]
  },
  {
   "cell_type": "code",
   "execution_count": 15,
   "id": "f1c9e012-50ca-43aa-bb6b-a322af6fb0ec",
   "metadata": {
    "tags": []
   },
   "outputs": [],
   "source": [
    "rdd_departamentos = rdd_departamentos.map(lambda l: l.split(','))\n",
    "rdd_jobs = rdd_jobs.map(lambda l: l.split(','))\n",
    "rdd_empleados = rdd_empleados.map(lambda l: l.split(','))"
   ]
  },
  {
   "cell_type": "raw",
   "id": "881b87cb-2d24-478d-a768-e719c44f44b5",
   "metadata": {},
   "source": [
    "Filter"
   ]
  },
  {
   "cell_type": "code",
   "execution_count": 16,
   "id": "12f86754-75e9-4e97-919f-42803b0d7468",
   "metadata": {
    "tags": []
   },
   "outputs": [
    {
     "data": {
      "text/plain": [
       "[['1', 'Marketing Assistant'], ['2', 'VP Sales'], ['3', 'Biostatistician IV']]"
      ]
     },
     "execution_count": 16,
     "metadata": {},
     "output_type": "execute_result"
    }
   ],
   "source": [
    "rdd_jobs.take(3)"
   ]
  },
  {
   "cell_type": "code",
   "execution_count": 17,
   "id": "0059da69-746f-4cd2-964e-18e262abf9b7",
   "metadata": {
    "tags": []
   },
   "outputs": [],
   "source": [
    "rdd_Marketing_job =rdd_jobs.filter(lambda l: 'Marketing Assistant' in l[1])"
   ]
  },
  {
   "cell_type": "code",
   "execution_count": 18,
   "id": "242e0a26-ef42-4d6b-83ab-6005e734b626",
   "metadata": {
    "tags": []
   },
   "outputs": [],
   "source": [
    "rdd_empleados_sin_nulos = rdd_empleados.filter(lambda l: l[2] != '' and l[4] != '')"
   ]
  },
  {
   "cell_type": "code",
   "execution_count": 19,
   "id": "542b0f57-8618-4fcc-a2e9-889276c09092",
   "metadata": {
    "tags": []
   },
   "outputs": [],
   "source": [
    "# filter(lambda l: l[2] != Null) other exmplae puedes NA, NAN\n",
    "# filter(lambda l: Null not in l[3])"
   ]
  },
  {
   "cell_type": "code",
   "execution_count": 20,
   "id": "44b72944-d21b-4550-bd1c-3a26548e5e48",
   "metadata": {
    "tags": []
   },
   "outputs": [
    {
     "data": {
      "text/plain": [
       "[['1', 'Harold Vogt', '2021-11-07T02:48:42Z', '2', '96'],\n",
       " ['2', 'Ty Hofer', '2021-05-30T05:43:46Z', '8', ''],\n",
       " ['3', 'Lyman Hadye', '2021-09-01T23:27:38Z', '5', '52'],\n",
       " ['4', 'Lotti Crowthe', '2021-10-01T13:04:21Z', '12', '71']]"
      ]
     },
     "execution_count": 20,
     "metadata": {},
     "output_type": "execute_result"
    }
   ],
   "source": [
    "rdd_empleados.take(4)"
   ]
  },
  {
   "cell_type": "code",
   "execution_count": 21,
   "id": "6bd5153b-8e93-4875-b706-caf52a1c3699",
   "metadata": {
    "tags": []
   },
   "outputs": [],
   "source": [
    "rdd_empleados_tratados = rdd_empleados.map(lambda l: [l[0],l[1],l[2],\n",
    "\n",
    "l[3] if l[3] != '' else '14', '184' if l[4] == '' else l[4]]) #using ternearios"
   ]
  },
  {
   "cell_type": "code",
   "execution_count": 22,
   "id": "9c8f7ba7-56f3-4723-a827-60f7fd47d863",
   "metadata": {
    "tags": []
   },
   "outputs": [
    {
     "data": {
      "text/plain": [
       "[['1', 'Harold Vogt', '2021-11-07T02:48:42Z', '2', '96'],\n",
       " ['2', 'Ty Hofer', '2021-05-30T05:43:46Z', '8', '184'],\n",
       " ['3', 'Lyman Hadye', '2021-09-01T23:27:38Z', '5', '52'],\n",
       " ['4', 'Lotti Crowthe', '2021-10-01T13:04:21Z', '12', '71']]"
      ]
     },
     "execution_count": 22,
     "metadata": {},
     "output_type": "execute_result"
    },
    {
     "name": "stderr",
     "output_type": "stream",
     "text": [
      "----------------------------------------\n",
      "Exception occurred during processing of request from ('127.0.0.1', 35642)\n",
      "Traceback (most recent call last):\n",
      "  File \"/opt/conda/lib/python3.10/socketserver.py\", line 316, in _handle_request_noblock\n",
      "    self.process_request(request, client_address)\n",
      "  File \"/opt/conda/lib/python3.10/socketserver.py\", line 347, in process_request\n",
      "    self.finish_request(request, client_address)\n",
      "  File \"/opt/conda/lib/python3.10/socketserver.py\", line 360, in finish_request\n",
      "    self.RequestHandlerClass(request, client_address, self)\n",
      "  File \"/opt/conda/lib/python3.10/socketserver.py\", line 747, in __init__\n",
      "    self.handle()\n",
      "  File \"/usr/local/spark/python/pyspark/accumulators.py\", line 281, in handle\n",
      "    poll(accum_updates)\n",
      "  File \"/usr/local/spark/python/pyspark/accumulators.py\", line 253, in poll\n",
      "    if func():\n",
      "  File \"/usr/local/spark/python/pyspark/accumulators.py\", line 257, in accum_updates\n",
      "    num_updates = read_int(self.rfile)\n",
      "  File \"/usr/local/spark/python/pyspark/serializers.py\", line 595, in read_int\n",
      "    raise EOFError\n",
      "EOFError\n",
      "----------------------------------------\n"
     ]
    }
   ],
   "source": [
    "rdd_empleados_tratados.take(4)"
   ]
  },
  {
   "cell_type": "code",
   "execution_count": null,
   "id": "c4287af2-cc5a-48a3-9e36-ac90d0fc0563",
   "metadata": {},
   "outputs": [],
   "source": []
  }
 ],
 "metadata": {
  "kernelspec": {
   "display_name": "Python 3 (ipykernel)",
   "language": "python",
   "name": "python3"
  },
  "language_info": {
   "codemirror_mode": {
    "name": "ipython",
    "version": 3
   },
   "file_extension": ".py",
   "mimetype": "text/x-python",
   "name": "python",
   "nbconvert_exporter": "python",
   "pygments_lexer": "ipython3",
   "version": "3.10.9"
  }
 },
 "nbformat": 4,
 "nbformat_minor": 5
}
